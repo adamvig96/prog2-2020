{
 "cells": [
  {
   "cell_type": "markdown",
   "metadata": {},
   "source": [
    "**Projekt terv**: Budapest zöldterületeinek szeretnénk látogatottsági adatait ábrázolni. A térképen a zöldterületeket poligonok fogják jelezni és a hetente frissülő látogatottsági adatokat mutatja a színezésük. A nyers számokon túl szeretnénk statisztikákat még kitalálni, ezen még gondolkodunk, de pl. historikus látogatottságban/top 5 leglátogatottabb zöldterületben/legzsúfoltabb területben gondolkodunk. \n",
    "\n",
    "**Végeredmény**: egy interaktív térkép, amin megkereshetők a zöldterületek és azok látogatottsági adatai, valamin más, aggregált mutatók.\n",
    "\n",
    "**Database**:\n",
    "- Frissülő adat: \n",
    "    + Heti látogatottság adatok: kiterjesztést/tárolást még pontosan nem ismerjük, de reméljük, hogy el tudjuk érni, hogy driveba, CSV kiterjesztésbe jöjjenek\n",
    "- Statikus adat:\n",
    "    + Zöld terület poligonok: shp kiterjesztés (ezek már megvannak)\n",
    "    \n",
    "**Python Process**:\n",
    "\n",
    "1) Felállítjuk a zöld terület mapet\n",
    "\n",
    "2) Behívjuk a frissülő látogatottsági adatokat\n",
    "\n",
    "3) Elhelyezzük az látogatókat a zöld területeken\n",
    "\n",
    "4) Dataframeben számolgatunk (sűrűség, időszakonkénti látogatottság)\n",
    "\n",
    "5) Dash felállítása front-end vizualizáció (map az aktuális adatokról és legördülő listából lehet választani, hogy melyik zöld terület historikus látogatottságát mutassuk stb.)\n",
    "\n",
    "**Process structure**:\n",
    "-\therokuban futó Dash – plotly MAP \n",
    "-\t(Openmaps – opcionálisan, de ez a második preferenciánk)\n",
    "\n",
    "**Extrák**:\n",
    "-\tFeatures: Extrának azt csináljuk, hogy több statisztikát és ábrázolást nyomunk.\n",
    "-\tPlusz Változók: Extrának azt csináljuk, hogy behúzzuk a lakásárakat vagy kávézószámot\n",
    "\n",
    "**Next steppek**: \n",
    "-\tmegtudni, hogy hogyan jön be az adat\n",
    "-\tmegtudni, hogyan tudunk behíni a plotlyba poligonokat\n"
   ]
  }
 ],
 "metadata": {
  "kernelspec": {
   "display_name": "Python 3",
   "language": "python",
   "name": "python3"
  },
  "language_info": {
   "codemirror_mode": {
    "name": "ipython",
    "version": 3
   },
   "file_extension": ".py",
   "mimetype": "text/x-python",
   "name": "python",
   "nbconvert_exporter": "python",
   "pygments_lexer": "ipython3",
   "version": "3.7.4"
  },
  "toc": {
   "base_numbering": 1,
   "nav_menu": {},
   "number_sections": true,
   "sideBar": true,
   "skip_h1_title": false,
   "title_cell": "Table of Contents",
   "title_sidebar": "Contents",
   "toc_cell": false,
   "toc_position": {},
   "toc_section_display": true,
   "toc_window_display": false
  }
 },
 "nbformat": 4,
 "nbformat_minor": 4
}
